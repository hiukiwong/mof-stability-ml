{
 "metadata": {
  "language_info": {
   "codemirror_mode": {
    "name": "ipython",
    "version": 3
   },
   "file_extension": ".py",
   "mimetype": "text/x-python",
   "name": "python",
   "nbconvert_exporter": "python",
   "pygments_lexer": "ipython3",
   "version": "3.7.9-final"
  },
  "orig_nbformat": 2,
  "kernelspec": {
   "name": "python379jvsc74a57bd0c10353c4730cfc7adb4a234ca6be165c6b2b5ecbf87b1cb3cfaed15b0beb1720",
   "display_name": "Python 3.7.9 64-bit ('hhh')"
  },
  "metadata": {
   "interpreter": {
    "hash": "c10353c4730cfc7adb4a234ca6be165c6b2b5ecbf87b1cb3cfaed15b0beb1720"
   }
  }
 },
 "nbformat": 4,
 "nbformat_minor": 2,
 "cells": [
  {
   "cell_type": "code",
   "execution_count": 41,
   "metadata": {},
   "outputs": [
    {
     "output_type": "stream",
     "name": "stdout",
     "text": [
      "Z axis atom IDS: [50, 69, 474, 493]\n"
     ]
    }
   ],
   "source": [
    "import pandas as pd\n",
    "import matplotlib.pyplot as plt\n",
    "from scipy.spatial import distance\n",
    "from refdata.metal_set import metal_symbols\n",
    "\n",
    "all_atoms_df = pd.read_table('RASPA_Output/IRMOF-1.xyz', skiprows=2, delim_whitespace=True, names=['atom', 'x', 'y', 'z'])\n",
    "num_atoms = len(all_atoms_df)\n",
    "all_atoms_df.index = pd.RangeIndex(start=1, stop=num_atoms+1, step=1)\n",
    "all_atoms_df['xyz'] = tuple(all_atoms_df[['x', 'y', 'z']].values)\n",
    "\n",
    "centroid = (all_atoms_df['x'].mean(), all_atoms_df['y'].mean(), all_atoms_df['z'].mean())\n",
    "all_atoms_df['distance'] = all_atoms_df['xyz'].apply(lambda row: distance.euclidean(centroid, row))\n",
    "\n",
    "all_metal_atoms_df = all_atoms_df.loc[all_atoms_df['atom'].isin(metal_symbols)]\n",
    "distance_column = all_metal_atoms_df['distance']\n",
    "closest_metal_atoms_df = all_metal_atoms_df[distance_column == distance_column.min()]\n",
    "\n",
    "my_special_atom = closest_metal_atoms_df.iloc[0]\n",
    "x_wanted = my_special_atom.x\n",
    "y_wanted = my_special_atom.y\n",
    "z_axis_atoms = all_metal_atoms_df[(all_metal_atoms_df['x'] == x_wanted) & (all_metal_atoms_df['y'] == y_wanted)]\n",
    "\n",
    "z_ax_ids = list(z_axis_atoms.index)\n",
    "print(f'Z axis atom IDs: {z_ax_ids}')"
   ]
  },
  {
   "cell_type": "code",
   "execution_count": null,
   "metadata": {},
   "outputs": [],
   "source": []
  }
 ]
}