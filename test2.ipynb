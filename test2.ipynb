{
 "metadata": {
  "language_info": {
   "codemirror_mode": {
    "name": "ipython",
    "version": 3
   },
   "file_extension": ".py",
   "mimetype": "text/x-python",
   "name": "python",
   "nbconvert_exporter": "python",
   "pygments_lexer": "ipython3",
   "version": "3.7.9"
  },
  "orig_nbformat": 2,
  "kernelspec": {
   "name": "python379jvsc74a57bd03ccc77ab8405e96b95c513228eea06e9148c293034516478054ff0618edc267d",
   "display_name": "Python 3.7.9 64-bit ('mof-stability-ml': pyenv)"
  },
  "metadata": {
   "interpreter": {
    "hash": "3ccc77ab8405e96b95c513228eea06e9148c293034516478054ff0618edc267d"
   }
  }
 },
 "nbformat": 4,
 "nbformat_minor": 2,
 "cells": [
  {
   "cell_type": "code",
   "execution_count": 2,
   "metadata": {},
   "outputs": [
    {
     "output_type": "stream",
     "name": "stdout",
     "text": [
      "3392\nIRMOF-1\n\n"
     ]
    },
    {
     "output_type": "execute_result",
     "data": {
      "text/plain": [
       "  atom        x        y        z                          xyz   distance\n",
       "0   Zn  7.57911  5.33689  5.33689  [7.57911, 5.33689, 5.33689]  34.252986\n",
       "1    O  6.45800  6.45800  6.45800        [6.458, 6.458, 6.458]  33.556752\n",
       "2    O  7.28204  5.63396  3.46149  [7.28204, 5.63396, 3.46149]  35.390699\n",
       "3    C  6.45800  6.45800  2.87510       [6.458, 6.458, 2.8751]  35.745252\n",
       "4    C  6.45800  6.45800  1.38976      [6.458, 6.458, 1.38976]  36.716847"
      ],
      "text/html": "<div>\n<style scoped>\n    .dataframe tbody tr th:only-of-type {\n        vertical-align: middle;\n    }\n\n    .dataframe tbody tr th {\n        vertical-align: top;\n    }\n\n    .dataframe thead th {\n        text-align: right;\n    }\n</style>\n<table border=\"1\" class=\"dataframe\">\n  <thead>\n    <tr style=\"text-align: right;\">\n      <th></th>\n      <th>atom</th>\n      <th>x</th>\n      <th>y</th>\n      <th>z</th>\n      <th>xyz</th>\n      <th>distance</th>\n    </tr>\n  </thead>\n  <tbody>\n    <tr>\n      <th>0</th>\n      <td>Zn</td>\n      <td>7.57911</td>\n      <td>5.33689</td>\n      <td>5.33689</td>\n      <td>[7.57911, 5.33689, 5.33689]</td>\n      <td>34.252986</td>\n    </tr>\n    <tr>\n      <th>1</th>\n      <td>O</td>\n      <td>6.45800</td>\n      <td>6.45800</td>\n      <td>6.45800</td>\n      <td>[6.458, 6.458, 6.458]</td>\n      <td>33.556752</td>\n    </tr>\n    <tr>\n      <th>2</th>\n      <td>O</td>\n      <td>7.28204</td>\n      <td>5.63396</td>\n      <td>3.46149</td>\n      <td>[7.28204, 5.63396, 3.46149]</td>\n      <td>35.390699</td>\n    </tr>\n    <tr>\n      <th>3</th>\n      <td>C</td>\n      <td>6.45800</td>\n      <td>6.45800</td>\n      <td>2.87510</td>\n      <td>[6.458, 6.458, 2.8751]</td>\n      <td>35.745252</td>\n    </tr>\n    <tr>\n      <th>4</th>\n      <td>C</td>\n      <td>6.45800</td>\n      <td>6.45800</td>\n      <td>1.38976</td>\n      <td>[6.458, 6.458, 1.38976]</td>\n      <td>36.716847</td>\n    </tr>\n  </tbody>\n</table>\n</div>"
     },
     "metadata": {},
     "execution_count": 2
    }
   ],
   "source": [
    "import pandas as pd\n",
    "import matplotlib.pyplot as plt\n",
    "import numpy as np\n",
    "from scipy.spatial import distance\n",
    "\n",
    "metal_atoms_set = {'zn'}\n",
    "\n",
    "with open('RASPA_Output/IRMOF-1.xyz') as file:\n",
    "    num_atoms = int(file.readline())\n",
    "    MOF_name = file.readline()\n",
    "    print(num_atoms)\n",
    "    print(MOF_name)\n",
    "        \n",
    "    atom = []\n",
    "    atom_ids = []\n",
    "    points = []\n",
    "    \n",
    "    atom_id = 1\n",
    "\n",
    "    for line in file:\n",
    "        atom_name, x, y, z = line.split()\n",
    "        atom_name = atom_name.lower()\n",
    "        atom.append((atom_name, atom_id))\n",
    "\n",
    "        # Extract metal atoms to visualise on a 3D scatter plot.\n",
    "        if atom_name in metal_atoms_set:\n",
    "            x = float(x)\n",
    "            y = float(y)\n",
    "            z = float(z)\n",
    "            atom_ids.append(atom_id)\n",
    "            point = (x, y, z)\n",
    "            points.append(point)\n",
    "        \n",
    "        atom_id += 1\n",
    "\n",
    "x_locs = [p[0] for p in points]\n",
    "y_locs = [p[1] for p in points]\n",
    "z_locs = [p[2] for p in points]\n",
    "\n",
    "points = np.array(points)\n",
    "centroid = points.mean(axis=0)\n",
    "\n",
    "\n",
    "dist_array = [distance.euclidean(centroid, point) for point in points]\n",
    "# print(min(dist_array), np.argmin(dist_array))\n",
    "# print(atom_ids[197])\n",
    "# print(atom[2579])\n",
    "\n",
    "\n",
    "df = pd.read_table('RASPA_Output/IRMOF-1.xyz', skiprows=2, delim_whitespace=True, names=['atom', 'x','y','z'])\n",
    "centroid=[np.mean(df['x'].tolist(), axis=0), np.mean(df['y'].tolist(), axis=0), np.mean(df['z'].tolist(), axis=0)]\n",
    "\n",
    "df['xyz']= df[['x','y','z']].values.tolist()\n",
    "\n",
    "df['distance']=df['xyz'].apply(lambda row: distance.euclidean(centroid, row))\n",
    "df.head()\n"
   ]
  },
  {
   "cell_type": "code",
   "execution_count": null,
   "metadata": {},
   "outputs": [],
   "source": []
  }
 ]
}