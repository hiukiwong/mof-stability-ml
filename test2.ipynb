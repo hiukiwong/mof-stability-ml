{
 "metadata": {
  "language_info": {
   "codemirror_mode": {
    "name": "ipython",
    "version": 3
   },
   "file_extension": ".py",
   "mimetype": "text/x-python",
   "name": "python",
   "nbconvert_exporter": "python",
   "pygments_lexer": "ipython3",
   "version": "3.7.9"
  },
  "orig_nbformat": 2,
  "kernelspec": {
   "name": "python379jvsc74a57bd03ccc77ab8405e96b95c513228eea06e9148c293034516478054ff0618edc267d",
   "display_name": "Python 3.7.9 64-bit ('mof-stability-ml': pyenv)"
  },
  "metadata": {
   "interpreter": {
    "hash": "3ccc77ab8405e96b95c513228eea06e9148c293034516478054ff0618edc267d"
   }
  }
 },
 "nbformat": 4,
 "nbformat_minor": 2,
 "cells": [
  {
   "cell_type": "code",
   "execution_count": 14,
   "metadata": {},
   "outputs": [
    {
     "output_type": "stream",
     "name": "stdout",
     "text": [
      "Centre atom ID: [50]\nZ axis atom IDs: [69, 474, 493]\nXZ plane atom IDs: [81, 1746, 1777]\n"
     ]
    }
   ],
   "source": [
    "import pandas as pd\n",
    "import matplotlib.pyplot as plt\n",
    "from scipy.spatial import distance\n",
    "from refdata.metal_set import metal_symbols\n",
    "\n",
    "all_atoms_df = pd.read_table('RASPA_Output/IRMOF-1.xyz', skiprows=2, delim_whitespace=True, names=['atom', 'x', 'y', 'z'])\n",
    "num_atoms = len(all_atoms_df)\n",
    "all_atoms_df.index = pd.RangeIndex(start=1, stop=num_atoms+1, step=1)\n",
    "all_atoms_df['xyz'] = tuple(all_atoms_df[['x', 'y', 'z']].values)\n",
    "\n",
    "centroid = (all_atoms_df['x'].mean(), all_atoms_df['y'].mean(), all_atoms_df['z'].mean())\n",
    "all_atoms_df['distance'] = all_atoms_df['xyz'].apply(lambda row: distance.euclidean(centroid, row))\n",
    "\n",
    "all_metal_atoms_df = all_atoms_df.loc[all_atoms_df['atom'].isin(metal_symbols)]\n",
    "distance_column = all_metal_atoms_df['distance']\n",
    "closest_metal_atoms_df = all_metal_atoms_df[distance_column == distance_column.min()]\n",
    "\n",
    "centre_atom = closest_metal_atoms_df.iloc[0]\n",
    "central_id = [closest_metal_atoms_df.index[0]]\n",
    "x_wanted = centre_atom.x\n",
    "y_wanted = centre_atom.y\n",
    "z_wanted = centre_atom.z\n",
    "\n",
    "z_axis_atoms = all_atoms_df[(all_atoms_df['x'] == x_wanted) & (all_atoms_df['y'] == y_wanted) & (all_atoms_df['z'] != z_wanted)]\n",
    "z_ax_ids = list(z_axis_atoms.index)\n",
    "\n",
    "xz_plane_atoms = all_atoms_df[(all_atoms_df['x'] != x_wanted) & (all_atoms_df['y'] == y_wanted) & (all_atoms_df['z'] == z_wanted)]\n",
    "xz_plane_ids = list(xz_plane_atoms.index)\n",
    "\n",
    "print(f'Centre atom ID: {central_id}')\n",
    "print(f'Z axis atom IDs: {z_ax_ids}')\n",
    "print(f'XZ plane atom IDs: {xz_plane_ids}')\n"
   ]
  },
  {
   "cell_type": "code",
   "execution_count": null,
   "metadata": {},
   "outputs": [],
   "source": []
  }
 ]
}