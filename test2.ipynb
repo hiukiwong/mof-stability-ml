{
 "metadata": {
  "language_info": {
   "codemirror_mode": {
    "name": "ipython",
    "version": 3
   },
   "file_extension": ".py",
   "mimetype": "text/x-python",
   "name": "python",
   "nbconvert_exporter": "python",
   "pygments_lexer": "ipython3",
   "version": "3.7.9"
  },
  "orig_nbformat": 2,
  "kernelspec": {
   "name": "python379jvsc74a57bd03ccc77ab8405e96b95c513228eea06e9148c293034516478054ff0618edc267d",
   "display_name": "Python 3.7.9 64-bit ('mof-stability-ml': pyenv)"
  },
  "metadata": {
   "interpreter": {
    "hash": "3ccc77ab8405e96b95c513228eea06e9148c293034516478054ff0618edc267d"
   }
  }
 },
 "nbformat": 4,
 "nbformat_minor": 2,
 "cells": [
  {
   "cell_type": "code",
   "execution_count": 47,
   "metadata": {},
   "outputs": [
    {
     "output_type": "stream",
     "name": "stdout",
     "text": [
      "atom                                    Zn\nx                                 20.49511\ny                                 18.25289\nz                                 20.49511\nxyz         [20.49511, 18.25289, 20.49511]\ndistance                         10.696153\nName: 50, dtype: object\natom                                  Zn\nx                               20.49511\ny                                7.57911\nz                                5.33689\nxyz         [20.49511, 7.57911, 5.33689]\ndistance                       27.958897\nName: 8, dtype: object\natom                                   Zn\nx                                 7.57911\ny                                20.49511\nz                                20.49511\nxyz         [7.57911, 20.49511, 20.49511]\ndistance                        19.751779\nName: 29, dtype: object\n"
     ]
    }
   ],
   "source": [
    "import pandas as pd\n",
    "import matplotlib.pyplot as plt\n",
    "import numpy as np\n",
    "from scipy.spatial import distance\n",
    "from refdata.metal_set import metal_symbols\n",
    "\n",
    "\n",
    "\n",
    "df = pd.read_table('RASPA_Output/IRMOF-1.xyz', skiprows=2, delim_whitespace=True, names=['atom', 'x','y','z'])\n",
    "centroid=[np.mean(df['x'].tolist(), axis=0), np.mean(df['y'].tolist(), axis=0), np.mean(df['z'].tolist(), axis=0)]\n",
    "\n",
    "df['xyz']= df[['x','y','z']].values.tolist()\n",
    "\n",
    "df['distance']=df['xyz'].apply(lambda row: distance.euclidean(centroid, row))\n",
    "df1=df.loc[df['atom'].isin(metal_symbols)]\n",
    "df.index+=1\n",
    "df2=df[df['distance']==df1['distance'].min()]\n",
    "print(df2.iloc[0])\n",
    "print(df[df2['x'].iloc[0]==df['x']].iloc[0])\n",
    "print(df[df2['z'].iloc[0]==df['z']].iloc[0])\n"
   ]
  },
  {
   "cell_type": "code",
   "execution_count": null,
   "metadata": {},
   "outputs": [],
   "source": []
  }
 ]
}