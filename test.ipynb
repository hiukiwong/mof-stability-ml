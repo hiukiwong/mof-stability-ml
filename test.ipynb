{
 "metadata": {
  "language_info": {
   "codemirror_mode": {
    "name": "ipython",
    "version": 3
   },
   "file_extension": ".py",
   "mimetype": "text/x-python",
   "name": "python",
   "nbconvert_exporter": "python",
   "pygments_lexer": "ipython3",
   "version": "3.8.5-final"
  },
  "orig_nbformat": 2,
  "kernelspec": {
   "name": "python38564bitmof71bc4c10722742db8f487903667fcc90",
   "display_name": "Python 3.8.5 64-bit ('mof')",
   "language": "python"
  }
 },
 "nbformat": 4,
 "nbformat_minor": 2,
 "cells": [
  {
   "cell_type": "code",
   "execution_count": 17,
   "metadata": {},
   "outputs": [
    {
     "output_type": "error",
     "ename": "ModuleNotFoundError",
     "evalue": "No module named 'scipy'",
     "traceback": [
      "\u001b[0;31m---------------------------------------------------------------------------\u001b[0m",
      "\u001b[0;31mModuleNotFoundError\u001b[0m                       Traceback (most recent call last)",
      "\u001b[0;32m<ipython-input-17-cf893522975d>\u001b[0m in \u001b[0;36m<module>\u001b[0;34m\u001b[0m\n\u001b[1;32m      1\u001b[0m \u001b[0;32mimport\u001b[0m \u001b[0mnumpy\u001b[0m \u001b[0;32mas\u001b[0m \u001b[0mnp\u001b[0m\u001b[0;34m\u001b[0m\u001b[0;34m\u001b[0m\u001b[0m\n\u001b[0;32m----> 2\u001b[0;31m \u001b[0;32mfrom\u001b[0m \u001b[0mscipy\u001b[0m\u001b[0;34m.\u001b[0m\u001b[0minterpolate\u001b[0m \u001b[0;32mimport\u001b[0m \u001b[0mgriddata\u001b[0m\u001b[0;34m\u001b[0m\u001b[0;34m\u001b[0m\u001b[0m\n\u001b[0m\u001b[1;32m      3\u001b[0m \u001b[0;32mimport\u001b[0m \u001b[0mmatplotlib\u001b[0m\u001b[0;34m.\u001b[0m\u001b[0mpyplot\u001b[0m \u001b[0;32mas\u001b[0m \u001b[0mplt\u001b[0m\u001b[0;34m\u001b[0m\u001b[0;34m\u001b[0m\u001b[0m\n\u001b[1;32m      4\u001b[0m \u001b[0;32mfrom\u001b[0m \u001b[0mmpl_toolkits\u001b[0m\u001b[0;34m.\u001b[0m\u001b[0mmplot3d\u001b[0m \u001b[0;32mimport\u001b[0m \u001b[0mAxes3D\u001b[0m\u001b[0;34m\u001b[0m\u001b[0;34m\u001b[0m\u001b[0m\n\u001b[1;32m      5\u001b[0m \u001b[0;32mfrom\u001b[0m \u001b[0mpy2sambvca_v2\u001b[0m\u001b[0;34m.\u001b[0m\u001b[0mpy2sambvca_v2\u001b[0m \u001b[0;32mimport\u001b[0m \u001b[0mpy2sambvca\u001b[0m \u001b[0;32mas\u001b[0m \u001b[0mp2s\u001b[0m\u001b[0;34m\u001b[0m\u001b[0;34m\u001b[0m\u001b[0m\n",
      "\u001b[0;31mModuleNotFoundError\u001b[0m: No module named 'scipy'"
     ]
    }
   ],
   "source": [
    "import numpy as np\n",
    "from scipy.interpolate import griddata\n",
    "import matplotlib.pyplot as plt\n",
    "from mpl_toolkits.mplot3d import Axes3D\n",
    "from py2sambvca_v2.py2sambvca_v2 import py2sambvca as p2s\n",
    "%matplotlib inline\n",
    "\n",
    "# Input paths\n",
    "input_xyz_path = 'xyz_structures//IRMOF-1.xyz'\n",
    "sambvca_calc_path = 'Sambvca21_source//sambvca21.x'\n",
    "\n",
    "# Running sambvca.x\n",
    "buried_vol = p2s(\n",
    "    xyz_filepath=input_xyz_path,\n",
    "    sphere_center_atom_ids=[242],\n",
    "    z_ax_atom_ids=[242, 288],\n",
    "    xz_plane_atoms_ids=[242, 288, 224],\n",
    "    path_to_sambvcax=sambvca_calc_path\n",
    "    )\n",
    "buried_vol.write_input()\n",
    "buried_vol.calc()\n",
    "\n",
    "# Print buried vol result\n",
    "print(f'Buried volume = {buried_vol.get_buried_vol()}%')\n",
    "\n",
    "\n",
    "top_surf_data = 'py2sambvca_input-TopSurface.dat'\n",
    "# top_surf_data = 'IRMOF-1-web-calculated-TopSurface.dat'\n",
    "\n",
    "X = []\n",
    "Y = []\n",
    "Z = []\n",
    "\n",
    "with open(top_surf_data, 'r') as file:\n",
    "    for line in file:\n",
    "        s = list(map(float, line.split()))\n",
    "        X.append(s[0])\n",
    "        Y.append(s[1])\n",
    "        Z.append(s[2])\n",
    "\n",
    "# 3D scatter plot of top surf points\n",
    "fig = plt.figure(figsize=(7,7))\n",
    "ax = fig.add_subplot(111, projection='3d', )\n",
    "ax.scatter(X, Y, Z, s=1)\n",
    "plt.show()\n",
    "\n",
    "def plot_contour(x,y,z,resolution = 50,contour_method='linear'):\n",
    "    resolution = str(resolution)+'j'\n",
    "    X,Y = np.mgrid[min(x):max(x):complex(resolution),   min(y):max(y):complex(resolution)]\n",
    "    points = [[a,b] for a,b in zip(x,y)]\n",
    "    Z = griddata(points, z, (X, Y), method=contour_method)\n",
    "    return X,Y,Z\n",
    "\n",
    "XX, YY, ZZ = plot_contour(X,Y,Z,resolution = 50,contour_method='linear')\n",
    "\n",
    "# 2D contour plot of top surf points\n",
    "with plt.style.context(\"seaborn-white\"):\n",
    "    fig, ax = plt.subplots(figsize=(7,7))\n",
    "    ax.contourf(XX,YY,ZZ)"
   ]
  },
  {
   "cell_type": "code",
   "execution_count": null,
   "metadata": {},
   "outputs": [],
   "source": []
  }
 ]
}