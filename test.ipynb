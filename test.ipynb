{
 "metadata": {
  "language_info": {
   "codemirror_mode": {
    "name": "ipython",
    "version": 3
   },
   "file_extension": ".py",
   "mimetype": "text/x-python",
   "name": "python",
   "nbconvert_exporter": "python",
   "pygments_lexer": "ipython3",
   "version": "3.8.5-final"
  },
  "orig_nbformat": 2,
  "kernelspec": {
   "name": "python38564bitmof71bc4c10722742db8f487903667fcc90",
   "display_name": "Python 3.8.5 64-bit ('mof')",
   "language": "python"
  }
 },
 "nbformat": 4,
 "nbformat_minor": 2,
 "cells": [
  {
   "cell_type": "code",
   "execution_count": 9,
   "metadata": {},
   "outputs": [],
   "source": [
    "from py2sambvca.py2sambvca import py2sambvca as p2s\n",
    "\n",
    "input_xyz = 'xyz_structures//IRMOF-1.xyz'\n",
    "\n",
    "buried_vol = p2s(\n",
    "    xyz_filepath=input_xyz,\n",
    "    sphere_center_atom_ids=[],\n",
    "    z_ax_atom_ids=[],\n",
    "    xz_plane_atoms_ids=[]\n",
    "    )"
   ]
  }
 ]
}