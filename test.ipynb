{
 "metadata": {
  "language_info": {
   "codemirror_mode": {
    "name": "ipython",
    "version": 3
   },
   "file_extension": ".py",
   "mimetype": "text/x-python",
   "name": "python",
   "nbconvert_exporter": "python",
   "pygments_lexer": "ipython3",
   "version": "3.8.5-final"
  },
  "orig_nbformat": 2,
  "kernelspec": {
   "name": "python38564bitmofe34fccf677f54c4eb2e429809a725ae4",
   "display_name": "Python 3.8.5 64-bit ('mof')",
   "language": "python"
  }
 },
 "nbformat": 4,
 "nbformat_minor": 2,
 "cells": [
  {
   "cell_type": "code",
   "execution_count": 1,
   "metadata": {},
   "outputs": [
    {
     "output_type": "stream",
     "name": "stdout",
     "text": [
      "Buried volume = 91.1%\n"
     ]
    },
    {
     "output_type": "display_data",
     "data": {
      "text/plain": "Canvas(toolbar=Toolbar(toolitems=[('Home', 'Reset original view', 'home', 'home'), ('Back', 'Back to previous …",
      "application/vnd.jupyter.widget-view+json": {
       "version_major": 2,
       "version_minor": 0,
       "model_id": "4e27eaf08c604ee9bace3ef0fdb43175"
      }
     },
     "metadata": {}
    },
    {
     "output_type": "display_data",
     "data": {
      "text/plain": "Canvas(toolbar=Toolbar(toolitems=[('Home', 'Reset original view', 'home', 'home'), ('Back', 'Back to previous …",
      "application/vnd.jupyter.widget-view+json": {
       "version_major": 2,
       "version_minor": 0,
       "model_id": "668069d942314b7da6440e48f91246de"
      }
     },
     "metadata": {}
    }
   ],
   "source": [
    "import os\n",
    "import numpy as np\n",
    "from scipy.interpolate import griddata\n",
    "import matplotlib.pyplot as plt\n",
    "from mpl_toolkits.mplot3d import Axes3D\n",
    "from py2sambvca.py2sambvca import py2sambvca as p2s\n",
    "%matplotlib widget\n",
    "\n",
    "# Input paths\n",
    "input_xyz_path = 'Inputs/UiO-66_hydroxylated.xyz'\n",
    "sambvca_calc_path = 'Sambvca21_source//sambvca21.x'\n",
    "\n",
    "# Running sambvca.x\n",
    "buried_vol = p2s(\n",
    "    xyz_filepath=input_xyz_path,\n",
    "    sphere_center_atom_ids=[172],\n",
    "    z_ax_atom_ids=[73],\n",
    "    xz_plane_atoms_ids=[606],\n",
    "    path_to_sambvcax=sambvca_calc_path\n",
    "    )\n",
    "buried_vol.write_input()\n",
    "buried_vol.calc()\n",
    "\n",
    "# Print buried vol result\n",
    "print(f'Buried volume = {buried_vol.get_buried_vol()}%')\n",
    "\n",
    "\n",
    "top_surf_data = 'py2sambvca_input-TopSurface.dat'\n",
    "# top_surf_data = 'IRMOF-1-web-calculated-TopSurface.dat'\n",
    "\n",
    "X = []\n",
    "Y = []\n",
    "Z = []\n",
    "\n",
    "with open(top_surf_data, 'r') as file:\n",
    "    for line in file:\n",
    "        s = list(map(float, line.split()))\n",
    "        X.append(s[0])\n",
    "        Y.append(s[1])\n",
    "        Z.append(s[2])\n",
    "\n",
    "# 3D scatter plot of top surf points\n",
    "fig = plt.figure(figsize=(7,7))\n",
    "ax = fig.add_subplot(111, projection='3d', )\n",
    "ax.scatter(X, Y, Z, s=1)\n",
    "plt.show()\n",
    "\n",
    "def plot_contour(x,y,z,resolution = 50,contour_method='linear'):\n",
    "    resolution = str(resolution)+'j'\n",
    "    X,Y = np.mgrid[min(x):max(x):complex(resolution),   min(y):max(y):complex(resolution)]\n",
    "    points = [[a,b] for a,b in zip(x,y)]\n",
    "    Z = griddata(points, z, (X, Y), method=contour_method)\n",
    "    return X,Y,Z\n",
    "\n",
    "XX, YY, ZZ = plot_contour(X,Y,Z,resolution = 50,contour_method='linear')\n",
    "\n",
    "# 2D contour plot of top surf points\n",
    "with plt.style.context(\"seaborn-white\"):\n",
    "    fig, ax = plt.subplots(figsize=(7,7))\n",
    "    ax.contourf(XX,YY,ZZ)"
   ]
  },
  {
   "cell_type": "code",
   "execution_count": 2,
   "metadata": {},
   "outputs": [
    {
     "output_type": "display_data",
     "data": {
      "text/plain": "Canvas(toolbar=Toolbar(toolitems=[('Home', 'Reset original view', 'home', 'home'), ('Back', 'Back to previous …",
      "application/vnd.jupyter.widget-view+json": {
       "version_major": 2,
       "version_minor": 0,
       "model_id": "bdbdf72a294e459f9e8ecaff06d374df"
      }
     },
     "metadata": {}
    },
    {
     "output_type": "stream",
     "name": "stdout",
     "text": [
      "Info: PNG map image in file coloured_plt.jpg\n"
     ]
    }
   ],
   "source": [
    "import numpy as np\n",
    "import matplotlib.pyplot as plt\n",
    "\n",
    "def readcontour(input_dat_file): \n",
    "    #top and bottom surface dats\n",
    "    fh = open(input_dat_file)\n",
    "    lines = fh.readlines()\n",
    "    fh.close()\n",
    "\n",
    "    val = 0\n",
    "\n",
    "# Create 3D space and fill it with zeros\n",
    "# Find min and max x,y values, plus spacing\n",
    "    zdata = []\n",
    "    xmin = +999.0\n",
    "    xmax = -999.0\n",
    "    ymin = +999.0\n",
    "    ymax = -999.0\n",
    "    for i in range(len(lines)):\n",
    "        fields = lines[i].split()\n",
    "        if len(fields) == 3:\n",
    "           zdata.append(float(fields[2]))\n",
    "           val = val+1\n",
    "           if float(fields[0])<xmin:\n",
    "              xmin = float(fields[0])\n",
    "           if float(fields[0])>xmax:\n",
    "              xmax = float(fields[0])\n",
    "           if float(fields[1])<ymin:\n",
    "              ymin = float(fields[1])\n",
    "           if float(fields[1])>ymax:\n",
    "              ymax = float(fields[1])\n",
    "    d = int(np.sqrt(val))\n",
    "    x = np.zeros(d, float)\n",
    "    y = np.zeros(d, float)\n",
    "    z = np.zeros((d,d), float)\n",
    "    grid_mesh = float((xmax-xmin)/(d-1))\n",
    "\n",
    "#Setting grid mesh values here \n",
    "    for i in range(0, d, 1):\n",
    "        x[i]= xmin+i*grid_mesh\n",
    "        y[i]= ymin+i*grid_mesh\n",
    "    c = 0\n",
    "    for i in range(0, d, 1):\n",
    "        for j in range(0, d, 1):\n",
    "            z[j,i] = zdata[c]\n",
    "            c = c+1\n",
    "\n",
    "    return(x, y, z, xmin, xmax)\n",
    "# end def readcontour\n",
    "\n",
    "# Main program below\n",
    "\n",
    "# Read z(x,y) file and  fill the levels\n",
    "(cx, cy, cz, xmin, xmax) = readcontour(\"py2sambvca_input-TopSurface.dat\")\n",
    "spacing = 0.25\n",
    "levels = np.arange(xmin, xmax+0.001, spacing)\n",
    "\n",
    "plt.figure()\n",
    "cset1 = plt.contourf(cx, cy, cz, levels, cmap=plt.get_cmap('jet', len(levels)-1),)\n",
    "cset2 = plt.contour(cx, cy, cz, cset1.levels, colors = 'k', hold='on')\n",
    "for c in cset2.collections:\n",
    "    c.set_linestyle('solid')\n",
    "\n",
    "plt.colorbar(cset1)\n",
    "plt.show()\n",
    "\n",
    "out_filename=\"coloured_plt\"\n",
    "plt.savefig(out_filename+\".jpg\")\n",
    "\n",
    "print(f\"Info: PNG map image in file {out_filename}.jpg\")"
   ]
  },
  {
   "cell_type": "code",
   "execution_count": 1,
   "metadata": {},
   "outputs": [],
   "source": [
    "def read_cif_file(file, flag):\n",
    "    #specify full relative path, flag = true\n",
    "        # blank list to store the cif data\n",
    "    cif_data = []\n",
    "        # blank list to store the entire cif file\n",
    "    cif_file = []\n",
    "        # the flag variable has been introduced as a marker to activate when the cif data is to be read and switched off\n",
    "        # when it doesn't have to be read.\n",
    "    flag1 = 1\n",
    "    flag2 = 1\n",
    "    flag3 = 1\n",
    "    if flag == False:\n",
    "        keywords = \"_atom_site_fract_z\"\n",
    "    if flag == True:\n",
    "        keywords = \"_atom_site_fract_z\"\n",
    "    exit_keyword = \"#END\"\n",
    "    exit_keyword_2 = \"loop_\"\n",
    "        # get the current working directory\n",
    "    cwd = os.getcwd()\n",
    "    if flag == False:\n",
    "        path = \"%s/%s\" %(cwd, file)\n",
    "    if flag == True:\n",
    "        path = \"%s\" % file\n",
    "        # in this case the file is opened using this syntax as the syntax used to open a file in the output_parser\n",
    "        # function was not working for this case\n",
    "    f = open(path, \"r\")\n",
    "    for x in f:\n",
    "        if (exit_keyword in x) or (exit_keyword_2 in x):\n",
    "            flag1 = 1\n",
    "        if flag1 == 2:\n",
    "            x = x.strip()\n",
    "            x = x.split()\n",
    "                # the if statements below along with the for loops are used to remove the brackets (and the data contained within these brackets)\n",
    "            for i in range(0, len(x)):\n",
    "                x[i] = remove_brackets_from_line(x[i])\n",
    "            cif_data.append(x)\n",
    "                # Creating a copy of list y, so I can append \"\\n\" to the cif data to make it easier to print\n",
    "            y = x.copy()\n",
    "            y.append(\"\\n\")\n",
    "            cif_file.append(y)\n",
    "        if flag1 == 1:\n",
    "            cif_file.append(x)\n",
    "        if keywords in x:\n",
    "            flag1 = 2\n",
    "    return (cif_data, cif_file)\n",
    "def remove_brackets_from_line(line):\n",
    "    flag3 = 1\n",
    "    for i in range(0, len(line)):\n",
    "        if line[i] == ')':\n",
    "            flag2 = 1\n",
    "            stop = i\n",
    "            flag3 = 2\n",
    "        if line[i] == '(':\n",
    "            flag2 = 2\n",
    "            start = i\n",
    "    if flag3 == 2:\n",
    "        line = line[0: start:] + line[stop + 1::]\n",
    "    return (line)\n",
    "#[x,y] = read_cif_file(tag, True)\n",
    "\n",
    "[x,y] = read_cif_file('Movies/System_0/Framework_0_initial_2_2_2_P1.cif', True)\n",
    "\n"
   ]
  },
  {
   "cell_type": "code",
   "execution_count": 14,
   "metadata": {},
   "outputs": [
    {
     "output_type": "execute_result",
     "data": {
      "text/plain": [
       "[1, 1, 1]"
      ]
     },
     "metadata": {},
     "execution_count": 14
    }
   ],
   "source": [
    "import numpy as np\n",
    "def calc_number_of_unit_cells(unit_cell_dimensions):\n",
    "    #remember to check the cutoff everytime you run the program\n",
    "    cutoff = 12.9\n",
    "    length_a = unit_cell_dimensions[0]\n",
    "    length_b = unit_cell_dimensions[1]\n",
    "    length_c = unit_cell_dimensions[2]\n",
    "    alpha = unit_cell_dimensions[3]\n",
    "    beta = unit_cell_dimensions[4]\n",
    "    gamma = unit_cell_dimensions[5]\n",
    "    # Convert cif information to unit_cell vectors\n",
    "    ax = length_a\n",
    "    ay = 0.0\n",
    "    az = 0.0\n",
    "    bx = length_b * np.cos(gamma * np.pi / 180.0)\n",
    "    by = length_b * np.sin(gamma * np.pi / 180.0)\n",
    "    bz = 0.0\n",
    "    cx = length_c * np.cos(beta * np.pi / 180.0)\n",
    "    cy = (length_c * length_b * np.cos(alpha * np.pi / 180.0) - bx * cx) / by\n",
    "    cz = (length_c ** 2 - cx ** 2 - cy ** 2) ** 0.5\n",
    "    unit_cell = np.asarray([[ax, ay, az], [bx, by, bz], [cx, cy, cz]])\n",
    "    # Unit cell vectors\n",
    "    A = unit_cell[0]\n",
    "    B = unit_cell[1]\n",
    "    C = unit_cell[2]\n",
    "    # minimum distances between unit cell faces\n",
    "    Wa = np.divide(np.linalg.norm(np.dot(np.cross(B, C), A)), np.linalg.norm(np.cross(B, C)))\n",
    "    Wb = np.divide(np.linalg.norm(np.dot(np.cross(C, A), B)), np.linalg.norm(np.cross(C, A)))\n",
    "    Wc = np.divide(np.linalg.norm(np.dot(np.cross(A, B), C)), np.linalg.norm(np.cross(A, B)))\n",
    "    uc_x = int(np.ceil(cutoff / (0.5 * Wa)))\n",
    "    uc_y = int(np.ceil(cutoff / (0.5 * Wb)))\n",
    "    uc_z = int(np.ceil(cutoff / (0.5 * Wc)))\n",
    "    number_of_unit_cells = [uc_x, uc_y, uc_z]\n",
    "    return (number_of_unit_cells)\n",
    "\n",
    "\n",
    "\n",
    "def extract_unit_cell_dimensions(cif_file):\n",
    "    # List of all unit cell dimensions in the following order: length_a, length_b, length_c, alpha, gamma, beta\n",
    "    unit_cell_dimensions = []\n",
    "    for line in cif_file:\n",
    "        flag3 = 1\n",
    "        if \"_cell_length_a\" in line:\n",
    "            line= line.split()[1]  # unit cell vector\n",
    "            line = remove_brackets_from_line(line)\n",
    "            unit_cell_dimensions.append(float(line))  # string to float\n",
    "        if \"_cell_length_b\" in line:\n",
    "            line = line.split()[1]\n",
    "            line = remove_brackets_from_line(line)\n",
    "            unit_cell_dimensions.append(float(line))\n",
    "        if \"_cell_length_c\" in line:\n",
    "            line = line.split()[1]\n",
    "            line = remove_brackets_from_line(line)\n",
    "            unit_cell_dimensions.append(float(line))\n",
    "        if \"_cell_angle_alpha\" in line:\n",
    "            line = line.split()[1]\n",
    "            line = remove_brackets_from_line(line)\n",
    "            unit_cell_dimensions.append(float(line))\n",
    "        if \"_cell_angle_beta\" in line:\n",
    "            line = line.split()[1]\n",
    "            line = remove_brackets_from_line(line)\n",
    "            unit_cell_dimensions.append(float(line))\n",
    "        if \"_cell_angle_gamma\" in line:\n",
    "            line = line.split()[1]\n",
    "            line = remove_brackets_from_line(line)\n",
    "            unit_cell_dimensions.append(float(line))\n",
    "    return(unit_cell_dimensions)\n",
    "\n",
    "\n",
    "unit_cell_dimensions = extract_unit_cell_dimensions(y)\n",
    "calc_number_of_unit_cells(unit_cell_dimensions)"
   ]
  },
  {
   "cell_type": "code",
   "execution_count": 18,
   "metadata": {},
   "outputs": [
    {
     "output_type": "error",
     "ename": "SyntaxError",
     "evalue": "invalid syntax (<ipython-input-18-40a32e6158b5>, line 15)",
     "traceback": [
      "\u001b[0;36m  File \u001b[0;32m\"<ipython-input-18-40a32e6158b5>\"\u001b[0;36m, line \u001b[0;32m15\u001b[0m\n\u001b[0;31m    simulate simulation.input\u001b[0m\n\u001b[0m             ^\u001b[0m\n\u001b[0;31mSyntaxError\u001b[0m\u001b[0;31m:\u001b[0m invalid syntax\n"
     ]
    }
   ],
   "source": [
    "def write_raspa_input_file(simulation_type, number_of_cycles, print_every, framework, framework_name, unit_cells):\n",
    "    molecule_name_list = []\n",
    "    f = open(\"simulation.input\", \"w+\")\n",
    "    f.write(\"SimulationType     %s\\n\" % simulation_type)\n",
    "    f.write(\"NumberofCycles     %d\\n\" % number_of_cycles)\n",
    "    f.write(\"PrintEvery     %d\\n\\n\" % print_every)\n",
    "    f.write(\"Framework      %s\\n\" % framework)\n",
    "    f.write(\"FrameworkName      %s\\n\" % framework_name)\n",
    "    f.write(\"UnitCells      %g %g %g\\n\" % (unit_cells[0], unit_cells[1], unit_cells[2]))\n",
    "    # return (molecule_name_list, unit_cells)\n",
    "\n",
    "\n",
    "write_raspa_input_file(\"MonteCarlo\", 1, 1, 0, \"IRMOF-1\", [2, 2, 2])\n",
    "\n"
   ]
  },
  {
   "cell_type": "code",
   "execution_count": 27,
   "metadata": {},
   "outputs": [
    {
     "output_type": "execute_result",
     "data": {
      "text/plain": [
       "127"
      ]
     },
     "metadata": {},
     "execution_count": 27
    }
   ],
   "source": [
    "import os, glob, shutil, subprocess, sys\n",
    "\n",
    "subprocess.call([\"simulate\", \"simulation.input\"], shell=True)\n",
    "# shutil.rmtree(\"VTK\")\n",
    "# shutil.rmtree(\"Restart\")\n",
    "# shutil.rmtree(\"Output\")\n",
    "# cif_path = \"Movies/System_0/Framework_0_initial_2_2_2_P1.cif\"\n",
    "# if os.path.isfile(cif_path):\n",
    "#     for Cleanup in glob.glob(\"/home/hiuki/mof-stability-ml/Movies/System_0/*.*\"):\n",
    "#         if not Cleanup.endswith(\"Framework_0_initial_2_2_2_P1.cif\"):\n",
    "#             os.remove(Cleanup)"
   ]
  },
  {
   "cell_type": "code",
   "execution_count": null,
   "metadata": {},
   "outputs": [],
   "source": [
    "import "
   ]
  }
 ]
}